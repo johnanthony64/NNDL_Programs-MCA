{
  "nbformat": 4,
  "nbformat_minor": 0,
  "metadata": {
    "colab": {
      "provenance": [],
      "gpuType": "T4"
    },
    "kernelspec": {
      "name": "python3",
      "display_name": "Python 3"
    },
    "language_info": {
      "name": "python"
    },
    "accelerator": "GPU"
  },
  "cells": [
    {
      "cell_type": "markdown",
      "source": [
        "# Question 1: XOR Gate Classification"
      ],
      "metadata": {
        "id": "t-f4NzTF8OPz"
      }
    },
    {
      "cell_type": "markdown",
      "source": [
        "# XOR using Single Layer Perceptron."
      ],
      "metadata": {
        "id": "2ewtN5mc8Wc7"
      }
    },
    {
      "cell_type": "code",
      "source": [
        "import numpy as np\n",
        "import tensorflow as tf\n",
        "from tensorflow import keras\n",
        "from tensorflow.keras import layers\n",
        "\n",
        "# Step 1: Define the activation function\n",
        "def activation_function(x):\n",
        "    return 1 if x >= 0 else 0\n",
        "\n",
        "# Step 2: Define the Perceptron model\n",
        "class Perceptron:\n",
        "    def __init__(self, learning_rate=0.1):\n",
        "        self.weights = np.random.rand(2)\n",
        "        self.bias = np.random.rand()\n",
        "        self.learning_rate = learning_rate\n",
        "\n",
        "    # Step 3: Perceptron prediction\n",
        "    def predict(self, inputs):\n",
        "        weighted_sum = np.dot(inputs, self.weights) + self.bias\n",
        "        return activation_function(weighted_sum)\n",
        "\n",
        "    # Step 4: Train the perceptron using the training data\n",
        "    def train(self, training_inputs, labels, epochs=20):\n",
        "        for epoch in range(epochs):\n",
        "            print(f'Epoch {epoch + 1}/{epochs}:')\n",
        "            for inputs, label in zip(training_inputs, labels):\n",
        "                prediction = self.predict(inputs)\n",
        "                error = label - prediction\n",
        "                self.weights += self.learning_rate * error * inputs\n",
        "                self.bias += self.learning_rate * error\n",
        "                print(f' Inputs: {inputs}, Prediction: {prediction}, Actual: {label}, Error: {error}')\n",
        "                print(f' Updated Weights: {self.weights}, Updated Bias: {self.bias}')\n",
        "            print()\n",
        "\n",
        "\n",
        "training_inputs = np.array([[0, 0], [0, 1], [1, 0], [1, 1]])\n",
        "labels = np.array([0, 1, 1, 0])\n",
        "\n",
        "perceptron = Perceptron(learning_rate=0.1)\n",
        "\n",
        "perceptron.train(training_inputs, labels, epochs=10)\n",
        "\n",
        "print('Testing the Perceptron model:')\n",
        "for inputs in training_inputs:\n",
        "    output = perceptron.predict(inputs)\n",
        "    print(f' Inputs: {inputs}, Predicted Output: {output}')\n",
        "\n"
      ],
      "metadata": {
        "colab": {
          "base_uri": "https://localhost:8080/"
        },
        "id": "zZxIgq-97aEk",
        "outputId": "e5380906-1c5d-4cc3-dc1f-1b47bdb24f12"
      },
      "execution_count": 25,
      "outputs": [
        {
          "output_type": "stream",
          "name": "stdout",
          "text": [
            "Epoch 1/10:\n",
            " Inputs: [0 0], Prediction: 1, Actual: 0, Error: -1\n",
            " Updated Weights: [0.47810245 0.20636047], Updated Bias: 0.42831110325925015\n",
            " Inputs: [0 1], Prediction: 1, Actual: 1, Error: 0\n",
            " Updated Weights: [0.47810245 0.20636047], Updated Bias: 0.42831110325925015\n",
            " Inputs: [1 0], Prediction: 1, Actual: 1, Error: 0\n",
            " Updated Weights: [0.47810245 0.20636047], Updated Bias: 0.42831110325925015\n",
            " Inputs: [1 1], Prediction: 1, Actual: 0, Error: -1\n",
            " Updated Weights: [0.37810245 0.10636047], Updated Bias: 0.32831110325925017\n",
            "\n",
            "Epoch 2/10:\n",
            " Inputs: [0 0], Prediction: 1, Actual: 0, Error: -1\n",
            " Updated Weights: [0.37810245 0.10636047], Updated Bias: 0.22831110325925016\n",
            " Inputs: [0 1], Prediction: 1, Actual: 1, Error: 0\n",
            " Updated Weights: [0.37810245 0.10636047], Updated Bias: 0.22831110325925016\n",
            " Inputs: [1 0], Prediction: 1, Actual: 1, Error: 0\n",
            " Updated Weights: [0.37810245 0.10636047], Updated Bias: 0.22831110325925016\n",
            " Inputs: [1 1], Prediction: 1, Actual: 0, Error: -1\n",
            " Updated Weights: [0.27810245 0.00636047], Updated Bias: 0.12831110325925016\n",
            "\n",
            "Epoch 3/10:\n",
            " Inputs: [0 0], Prediction: 1, Actual: 0, Error: -1\n",
            " Updated Weights: [0.27810245 0.00636047], Updated Bias: 0.028311103259250153\n",
            " Inputs: [0 1], Prediction: 1, Actual: 1, Error: 0\n",
            " Updated Weights: [0.27810245 0.00636047], Updated Bias: 0.028311103259250153\n",
            " Inputs: [1 0], Prediction: 1, Actual: 1, Error: 0\n",
            " Updated Weights: [0.27810245 0.00636047], Updated Bias: 0.028311103259250153\n",
            " Inputs: [1 1], Prediction: 1, Actual: 0, Error: -1\n",
            " Updated Weights: [ 0.17810245 -0.09363953], Updated Bias: -0.07168889674074985\n",
            "\n",
            "Epoch 4/10:\n",
            " Inputs: [0 0], Prediction: 0, Actual: 0, Error: 0\n",
            " Updated Weights: [ 0.17810245 -0.09363953], Updated Bias: -0.07168889674074985\n",
            " Inputs: [0 1], Prediction: 0, Actual: 1, Error: 1\n",
            " Updated Weights: [0.17810245 0.00636047], Updated Bias: 0.028311103259250153\n",
            " Inputs: [1 0], Prediction: 1, Actual: 1, Error: 0\n",
            " Updated Weights: [0.17810245 0.00636047], Updated Bias: 0.028311103259250153\n",
            " Inputs: [1 1], Prediction: 1, Actual: 0, Error: -1\n",
            " Updated Weights: [ 0.07810245 -0.09363953], Updated Bias: -0.07168889674074985\n",
            "\n",
            "Epoch 5/10:\n",
            " Inputs: [0 0], Prediction: 0, Actual: 0, Error: 0\n",
            " Updated Weights: [ 0.07810245 -0.09363953], Updated Bias: -0.07168889674074985\n",
            " Inputs: [0 1], Prediction: 0, Actual: 1, Error: 1\n",
            " Updated Weights: [0.07810245 0.00636047], Updated Bias: 0.028311103259250153\n",
            " Inputs: [1 0], Prediction: 1, Actual: 1, Error: 0\n",
            " Updated Weights: [0.07810245 0.00636047], Updated Bias: 0.028311103259250153\n",
            " Inputs: [1 1], Prediction: 1, Actual: 0, Error: -1\n",
            " Updated Weights: [-0.02189755 -0.09363953], Updated Bias: -0.07168889674074985\n",
            "\n",
            "Epoch 6/10:\n",
            " Inputs: [0 0], Prediction: 0, Actual: 0, Error: 0\n",
            " Updated Weights: [-0.02189755 -0.09363953], Updated Bias: -0.07168889674074985\n",
            " Inputs: [0 1], Prediction: 0, Actual: 1, Error: 1\n",
            " Updated Weights: [-0.02189755  0.00636047], Updated Bias: 0.028311103259250153\n",
            " Inputs: [1 0], Prediction: 1, Actual: 1, Error: 0\n",
            " Updated Weights: [-0.02189755  0.00636047], Updated Bias: 0.028311103259250153\n",
            " Inputs: [1 1], Prediction: 1, Actual: 0, Error: -1\n",
            " Updated Weights: [-0.12189755 -0.09363953], Updated Bias: -0.07168889674074985\n",
            "\n",
            "Epoch 7/10:\n",
            " Inputs: [0 0], Prediction: 0, Actual: 0, Error: 0\n",
            " Updated Weights: [-0.12189755 -0.09363953], Updated Bias: -0.07168889674074985\n",
            " Inputs: [0 1], Prediction: 0, Actual: 1, Error: 1\n",
            " Updated Weights: [-0.12189755  0.00636047], Updated Bias: 0.028311103259250153\n",
            " Inputs: [1 0], Prediction: 0, Actual: 1, Error: 1\n",
            " Updated Weights: [-0.02189755  0.00636047], Updated Bias: 0.12831110325925016\n",
            " Inputs: [1 1], Prediction: 1, Actual: 0, Error: -1\n",
            " Updated Weights: [-0.12189755 -0.09363953], Updated Bias: 0.028311103259250153\n",
            "\n",
            "Epoch 8/10:\n",
            " Inputs: [0 0], Prediction: 1, Actual: 0, Error: -1\n",
            " Updated Weights: [-0.12189755 -0.09363953], Updated Bias: -0.07168889674074985\n",
            " Inputs: [0 1], Prediction: 0, Actual: 1, Error: 1\n",
            " Updated Weights: [-0.12189755  0.00636047], Updated Bias: 0.028311103259250153\n",
            " Inputs: [1 0], Prediction: 0, Actual: 1, Error: 1\n",
            " Updated Weights: [-0.02189755  0.00636047], Updated Bias: 0.12831110325925016\n",
            " Inputs: [1 1], Prediction: 1, Actual: 0, Error: -1\n",
            " Updated Weights: [-0.12189755 -0.09363953], Updated Bias: 0.028311103259250153\n",
            "\n",
            "Epoch 9/10:\n",
            " Inputs: [0 0], Prediction: 1, Actual: 0, Error: -1\n",
            " Updated Weights: [-0.12189755 -0.09363953], Updated Bias: -0.07168889674074985\n",
            " Inputs: [0 1], Prediction: 0, Actual: 1, Error: 1\n",
            " Updated Weights: [-0.12189755  0.00636047], Updated Bias: 0.028311103259250153\n",
            " Inputs: [1 0], Prediction: 0, Actual: 1, Error: 1\n",
            " Updated Weights: [-0.02189755  0.00636047], Updated Bias: 0.12831110325925016\n",
            " Inputs: [1 1], Prediction: 1, Actual: 0, Error: -1\n",
            " Updated Weights: [-0.12189755 -0.09363953], Updated Bias: 0.028311103259250153\n",
            "\n",
            "Epoch 10/10:\n",
            " Inputs: [0 0], Prediction: 1, Actual: 0, Error: -1\n",
            " Updated Weights: [-0.12189755 -0.09363953], Updated Bias: -0.07168889674074985\n",
            " Inputs: [0 1], Prediction: 0, Actual: 1, Error: 1\n",
            " Updated Weights: [-0.12189755  0.00636047], Updated Bias: 0.028311103259250153\n",
            " Inputs: [1 0], Prediction: 0, Actual: 1, Error: 1\n",
            " Updated Weights: [-0.02189755  0.00636047], Updated Bias: 0.12831110325925016\n",
            " Inputs: [1 1], Prediction: 1, Actual: 0, Error: -1\n",
            " Updated Weights: [-0.12189755 -0.09363953], Updated Bias: 0.028311103259250153\n",
            "\n",
            "Testing the Perceptron model:\n",
            " Inputs: [0 0], Predicted Output: 1\n",
            " Inputs: [0 1], Predicted Output: 0\n",
            " Inputs: [1 0], Predicted Output: 0\n",
            " Inputs: [1 1], Predicted Output: 0\n"
          ]
        }
      ]
    },
    {
      "cell_type": "markdown",
      "source": [
        "# XOR using Multi-Layer Perceptron."
      ],
      "metadata": {
        "id": "p1_lUfDG7Z2g"
      }
    },
    {
      "cell_type": "code",
      "source": [
        "import numpy as np\n",
        "import tensorflow as tf\n",
        "from tensorflow import keras\n",
        "from tensorflow.keras import layers\n",
        "\n",
        "training_inputs = np.array([[0, 0], [0, 1], [1, 0], [1, 1]])\n",
        "labels = np.array([0, 1, 1, 0])  # XOR labels\n",
        "\n",
        "# Step 1: Define the MLP model with more neurons\n",
        "mlp_model = keras.Sequential([\n",
        "    layers.Dense(4, activation='relu', input_shape=(2,)),\n",
        "    layers.Dense(1, activation='sigmoid')\n",
        "])\n",
        "\n",
        "# Step 2: Compile the model\n",
        "mlp_model.compile(optimizer='adam', loss='binary_crossentropy', metrics=['accuracy'])\n",
        "\n",
        "# Step 3: Train the model\n",
        "mlp_model.fit(training_inputs, labels, epochs=5000, verbose=0)\n",
        "\n",
        "# Step 4: Test the MLP model after training\n",
        "print(\"Testing the Multi-Layer Perceptron model:\")\n",
        "mlp_predictions = mlp_model.predict(training_inputs)\n",
        "mlp_predictions = (mlp_predictions > 0.5).astype(int)\n",
        "\n",
        "# Step 5: Display predictions\n",
        "for input_vector, pred in zip(training_inputs, mlp_predictions):\n",
        "    print(f\"Input: {input_vector}, Predicted Output: {pred[0]}\")\n"
      ],
      "metadata": {
        "colab": {
          "base_uri": "https://localhost:8080/"
        },
        "id": "ttrOHSJf2hoi",
        "outputId": "5a923e60-c16c-4f05-ba6c-99ec91c4773a"
      },
      "execution_count": 35,
      "outputs": [
        {
          "output_type": "stream",
          "name": "stderr",
          "text": [
            "/usr/local/lib/python3.10/dist-packages/keras/src/layers/core/dense.py:87: UserWarning: Do not pass an `input_shape`/`input_dim` argument to a layer. When using Sequential models, prefer using an `Input(shape)` object as the first layer in the model instead.\n",
            "  super().__init__(activity_regularizer=activity_regularizer, **kwargs)\n"
          ]
        },
        {
          "output_type": "stream",
          "name": "stdout",
          "text": [
            "Testing the Multi-Layer Perceptron model:\n",
            "\u001b[1m1/1\u001b[0m \u001b[32m━━━━━━━━━━━━━━━━━━━━\u001b[0m\u001b[37m\u001b[0m \u001b[1m0s\u001b[0m 153ms/step\n",
            "Input: [0 0], Predicted Output: 0\n",
            "Input: [0 1], Predicted Output: 1\n",
            "Input: [1 0], Predicted Output: 1\n",
            "Input: [1 1], Predicted Output: 0\n"
          ]
        }
      ]
    },
    {
      "cell_type": "markdown",
      "source": [
        "# Question 2 B. Sentiment Analysis Using ANN on IMDb Movie Reviews"
      ],
      "metadata": {
        "id": "0FfhAZawCWcF"
      }
    },
    {
      "cell_type": "markdown",
      "source": [
        "Loading and preprocessing the dataset"
      ],
      "metadata": {
        "id": "c6_intgzClHR"
      }
    },
    {
      "cell_type": "code",
      "source": [
        "import numpy as np\n",
        "import pandas as pd\n",
        "import matplotlib.pyplot as plt\n",
        "import seaborn as sns\n",
        "from sklearn.model_selection import train_test_split\n",
        "from sklearn.preprocessing import StandardScaler\n",
        "from sklearn.metrics import confusion_matrix, classification_report\n",
        "from tensorflow.keras.models import Sequential\n",
        "from tensorflow.keras.layers import Dense, Dropout\n",
        "from tensorflow.keras.optimizers import Adam\n",
        "from tensorflow.keras.preprocessing.text import Tokenizer\n",
        "from tensorflow.keras.preprocessing.sequence import pad_sequences\n",
        "\n",
        "# Load the IMDb dataset\n",
        "df = pd.read_csv('IMDB_Dataset.csv')\n",
        "\n",
        "# Preprocessing function to clean text data\n",
        "def preprocess_text(text):\n",
        "    text = text.lower()\n",
        "    text = ''.join([char for char in text if char not in '.,!?'])\n",
        "    return text\n",
        "df['review'] = df['review'].apply(preprocess_text)\n"
      ],
      "metadata": {
        "id": "QwHSjSmXCWAo"
      },
      "execution_count": 27,
      "outputs": []
    },
    {
      "cell_type": "markdown",
      "source": [
        "1. Lowercasing: Ensures uniformity by converting all text to lowercase.\n",
        "2. Punctuation Removal: Simplifies the text by removing punctuation marks that do not contribute to sentiment.\n"
      ],
      "metadata": {
        "id": "ycA8BXsLFGlA"
      }
    },
    {
      "cell_type": "markdown",
      "source": [
        "Tokenization and Padding"
      ],
      "metadata": {
        "id": "M7ED2QAlC6-i"
      }
    },
    {
      "cell_type": "code",
      "source": [
        "max_words = 10000\n",
        "max_len = 200\n",
        "\n",
        "# Tokenization process\n",
        "tokenizer = Tokenizer(num_words=max_words)\n",
        "tokenizer.fit_on_texts(df['review'])\n",
        "sequences = tokenizer.texts_to_sequences(df['review'])\n",
        "X = pad_sequences(sequences, maxlen=max_len)\n"
      ],
      "metadata": {
        "id": "FF1ByW0MC6ve"
      },
      "execution_count": 28,
      "outputs": []
    },
    {
      "cell_type": "markdown",
      "source": [
        "1. Tokenization: Converts words into numerical representations.\n",
        "2. Padding: Ensures that all sequences have the same length for input into the neural network.\n"
      ],
      "metadata": {
        "id": "kXuGrGBaDD5Z"
      }
    },
    {
      "cell_type": "markdown",
      "source": [
        "Convert Sentiment to Numerical Values"
      ],
      "metadata": {
        "id": "tS-8hujRDL_n"
      }
    },
    {
      "cell_type": "code",
      "source": [
        "# Convert sentiment to numerical values (1 for positive, 0 for negative)\n",
        "y = np.array(df['sentiment'].map({'positive': 1, 'negative': 0}))\n"
      ],
      "metadata": {
        "id": "tNW8DvO0DPk4"
      },
      "execution_count": 29,
      "outputs": []
    },
    {
      "cell_type": "markdown",
      "source": [
        "Spliting the Data"
      ],
      "metadata": {
        "id": "c0_tsO7fDVuH"
      }
    },
    {
      "cell_type": "code",
      "source": [
        "# Split the dataset into training and testing sets (80% train, 20% test)\n",
        "X_train, X_test, y_train, y_test = train_test_split(X, y, test_size=0.2, random_state=42)\n"
      ],
      "metadata": {
        "id": "2wW-HR-9DZI3"
      },
      "execution_count": 30,
      "outputs": []
    },
    {
      "cell_type": "markdown",
      "source": [
        "Building the Model"
      ],
      "metadata": {
        "id": "IMHrWlrlDc5F"
      }
    },
    {
      "cell_type": "code",
      "source": [
        "# Build the ANN model architecture\n",
        "model = Sequential([\n",
        "    Dense(64, activation='relu', input_shape=(max_len,)),\n",
        "    Dropout(0.5),\n",
        "    Dense(32, activation='relu'),\n",
        "    Dropout(0.5),\n",
        "    Dense(1, activation='sigmoid')\n",
        "])\n",
        "\n",
        "# Compile the model with binary cross-entropy loss function and Adam optimizer\n",
        "model.compile(optimizer=Adam(learning_rate=0.001), loss='binary_crossentropy', metrics=['accuracy'])\n"
      ],
      "metadata": {
        "colab": {
          "base_uri": "https://localhost:8080/"
        },
        "id": "1BMBCrCeDcUu",
        "outputId": "2dca964f-6824-4cc6-a410-80e8b5553319"
      },
      "execution_count": 31,
      "outputs": [
        {
          "output_type": "stream",
          "name": "stderr",
          "text": [
            "/usr/local/lib/python3.10/dist-packages/keras/src/layers/core/dense.py:87: UserWarning: Do not pass an `input_shape`/`input_dim` argument to a layer. When using Sequential models, prefer using an `Input(shape)` object as the first layer in the model instead.\n",
            "  super().__init__(activity_regularizer=activity_regularizer, **kwargs)\n"
          ]
        }
      ]
    },
    {
      "cell_type": "markdown",
      "source": [
        "Explanation:\n",
        "1. ReLU Activation: Chosen for hidden layers due to its ability to mitigate vanishing gradient problems and introduce non-linearity.\n",
        "2. Sigmoid Activation: Used in the output layer for binary classification tasks; it outputs probabilities between 0 and 1.\n",
        "3. Binary Cross-Entropy Loss: Suitable for binary classification as it measures how well the predicted probabilities match true labels.\n"
      ],
      "metadata": {
        "id": "EBOPyUYjDnTf"
      }
    },
    {
      "cell_type": "markdown",
      "source": [
        "Training the Model"
      ],
      "metadata": {
        "id": "v4PnoPCfDtg_"
      }
    },
    {
      "cell_type": "code",
      "source": [
        "# Train the model on training data with validation split (20% of training data)\n",
        "history = model.fit(X_train, y_train, epochs=10, batch_size=32, validation_split=0.2, verbose=1)\n"
      ],
      "metadata": {
        "colab": {
          "base_uri": "https://localhost:8080/"
        },
        "id": "huzNKR-nDxvP",
        "outputId": "4b219cc6-4d33-4e0f-98fd-251aa7a7b472"
      },
      "execution_count": 32,
      "outputs": [
        {
          "output_type": "stream",
          "name": "stdout",
          "text": [
            "Epoch 1/10\n",
            "\u001b[1m1000/1000\u001b[0m \u001b[32m━━━━━━━━━━━━━━━━━━━━\u001b[0m\u001b[37m\u001b[0m \u001b[1m5s\u001b[0m 2ms/step - accuracy: 0.4976 - loss: 318.6036 - val_accuracy: 0.5063 - val_loss: 0.8246\n",
            "Epoch 2/10\n",
            "\u001b[1m1000/1000\u001b[0m \u001b[32m━━━━━━━━━━━━━━━━━━━━\u001b[0m\u001b[37m\u001b[0m \u001b[1m4s\u001b[0m 3ms/step - accuracy: 0.5023 - loss: 3.8154 - val_accuracy: 0.5001 - val_loss: 0.6984\n",
            "Epoch 3/10\n",
            "\u001b[1m1000/1000\u001b[0m \u001b[32m━━━━━━━━━━━━━━━━━━━━\u001b[0m\u001b[37m\u001b[0m \u001b[1m5s\u001b[0m 2ms/step - accuracy: 0.4973 - loss: 1.4335 - val_accuracy: 0.5002 - val_loss: 0.6946\n",
            "Epoch 4/10\n",
            "\u001b[1m1000/1000\u001b[0m \u001b[32m━━━━━━━━━━━━━━━━━━━━\u001b[0m\u001b[37m\u001b[0m \u001b[1m3s\u001b[0m 2ms/step - accuracy: 0.5064 - loss: 1.0794 - val_accuracy: 0.5009 - val_loss: 0.6931\n",
            "Epoch 5/10\n",
            "\u001b[1m1000/1000\u001b[0m \u001b[32m━━━━━━━━━━━━━━━━━━━━\u001b[0m\u001b[37m\u001b[0m \u001b[1m2s\u001b[0m 2ms/step - accuracy: 0.5030 - loss: 0.8513 - val_accuracy: 0.5000 - val_loss: 0.6931\n",
            "Epoch 6/10\n",
            "\u001b[1m1000/1000\u001b[0m \u001b[32m━━━━━━━━━━━━━━━━━━━━\u001b[0m\u001b[37m\u001b[0m \u001b[1m3s\u001b[0m 2ms/step - accuracy: 0.5074 - loss: 0.8011 - val_accuracy: 0.5000 - val_loss: 0.6931\n",
            "Epoch 7/10\n",
            "\u001b[1m1000/1000\u001b[0m \u001b[32m━━━━━━━━━━━━━━━━━━━━\u001b[0m\u001b[37m\u001b[0m \u001b[1m3s\u001b[0m 3ms/step - accuracy: 0.5009 - loss: 0.7592 - val_accuracy: 0.5006 - val_loss: 0.6931\n",
            "Epoch 8/10\n",
            "\u001b[1m1000/1000\u001b[0m \u001b[32m━━━━━━━━━━━━━━━━━━━━\u001b[0m\u001b[37m\u001b[0m \u001b[1m2s\u001b[0m 2ms/step - accuracy: 0.4971 - loss: 0.7739 - val_accuracy: 0.5002 - val_loss: 0.6932\n",
            "Epoch 9/10\n",
            "\u001b[1m1000/1000\u001b[0m \u001b[32m━━━━━━━━━━━━━━━━━━━━\u001b[0m\u001b[37m\u001b[0m \u001b[1m2s\u001b[0m 2ms/step - accuracy: 0.4975 - loss: 0.7171 - val_accuracy: 0.5000 - val_loss: 0.6931\n",
            "Epoch 10/10\n",
            "\u001b[1m1000/1000\u001b[0m \u001b[32m━━━━━━━━━━━━━━━━━━━━\u001b[0m\u001b[37m\u001b[0m \u001b[1m3s\u001b[0m 2ms/step - accuracy: 0.5039 - loss: 0.7081 - val_accuracy: 0.5000 - val_loss: 0.6932\n"
          ]
        }
      ]
    },
    {
      "cell_type": "markdown",
      "source": [
        "The model is trained over multiple epochs with a validation split to monitor performance during training"
      ],
      "metadata": {
        "id": "rp2YVJCPD0tr"
      }
    },
    {
      "cell_type": "markdown",
      "source": [
        " Evaluate the Model"
      ],
      "metadata": {
        "id": "j8u73B7yD3eP"
      }
    },
    {
      "cell_type": "code",
      "source": [
        "# Evaluate model performance on test data\n",
        "loss, accuracy = model.evaluate(X_test, y_test, verbose=0)\n",
        "print(f\"Test accuracy: {accuracy:.4f}\")\n",
        "\n",
        "# Make predictions on test data\n",
        "y_pred = model.predict(X_test)\n",
        "y_pred_classes = (y_pred > 0.5).astype(int)\n",
        "\n",
        "# Print classification report for detailed performance metrics\n",
        "print(classification_report(y_test, y_pred_classes))\n"
      ],
      "metadata": {
        "colab": {
          "base_uri": "https://localhost:8080/"
        },
        "id": "oGvKh6laD1XD",
        "outputId": "b5c72647-7ad5-4587-c8a2-f67f35dfef5b"
      },
      "execution_count": 33,
      "outputs": [
        {
          "output_type": "stream",
          "name": "stderr",
          "text": [
            "WARNING:tensorflow:6 out of the last 317 calls to <function TensorFlowTrainer.make_predict_function.<locals>.one_step_on_data_distributed at 0x7f1a343251b0> triggered tf.function retracing. Tracing is expensive and the excessive number of tracings could be due to (1) creating @tf.function repeatedly in a loop, (2) passing tensors with different shapes, (3) passing Python objects instead of tensors. For (1), please define your @tf.function outside of the loop. For (2), @tf.function has reduce_retracing=True option that can avoid unnecessary retracing. For (3), please refer to https://www.tensorflow.org/guide/function#controlling_retracing and https://www.tensorflow.org/api_docs/python/tf/function for  more details.\n"
          ]
        },
        {
          "output_type": "stream",
          "name": "stdout",
          "text": [
            "Test accuracy: 0.5039\n",
            "\u001b[1m313/313\u001b[0m \u001b[32m━━━━━━━━━━━━━━━━━━━━\u001b[0m\u001b[37m\u001b[0m \u001b[1m1s\u001b[0m 2ms/step\n",
            "              precision    recall  f1-score   support\n",
            "\n",
            "           0       0.00      0.00      0.00      4961\n",
            "           1       0.50      1.00      0.67      5039\n",
            "\n",
            "    accuracy                           0.50     10000\n",
            "   macro avg       0.25      0.50      0.34     10000\n",
            "weighted avg       0.25      0.50      0.34     10000\n",
            "\n"
          ]
        },
        {
          "output_type": "stream",
          "name": "stderr",
          "text": [
            "/usr/local/lib/python3.10/dist-packages/sklearn/metrics/_classification.py:1531: UndefinedMetricWarning: Precision is ill-defined and being set to 0.0 in labels with no predicted samples. Use `zero_division` parameter to control this behavior.\n",
            "  _warn_prf(average, modifier, f\"{metric.capitalize()} is\", len(result))\n",
            "/usr/local/lib/python3.10/dist-packages/sklearn/metrics/_classification.py:1531: UndefinedMetricWarning: Precision is ill-defined and being set to 0.0 in labels with no predicted samples. Use `zero_division` parameter to control this behavior.\n",
            "  _warn_prf(average, modifier, f\"{metric.capitalize()} is\", len(result))\n",
            "/usr/local/lib/python3.10/dist-packages/sklearn/metrics/_classification.py:1531: UndefinedMetricWarning: Precision is ill-defined and being set to 0.0 in labels with no predicted samples. Use `zero_division` parameter to control this behavior.\n",
            "  _warn_prf(average, modifier, f\"{metric.capitalize()} is\", len(result))\n"
          ]
        }
      ]
    },
    {
      "cell_type": "markdown",
      "source": [
        "The model's accuracy is evaluated on test data. Predictions are made and classified based on a threshold of 0.5."
      ],
      "metadata": {
        "id": "Zc2IgemCEKm4"
      }
    },
    {
      "cell_type": "markdown",
      "source": [
        "Visualizing Training History"
      ],
      "metadata": {
        "id": "NkXvlN55ERr9"
      }
    },
    {
      "cell_type": "code",
      "source": [
        "# Plot training history (accuracy and loss)\n",
        "plt.figure(figsize=(12, 4))\n",
        "plt.subplot(1, 2, 1)\n",
        "plt.plot(history.history['accuracy'], label='Training Accuracy')\n",
        "plt.plot(history.history['val_accuracy'], label='Validation Accuracy')\n",
        "plt.title('Model Accuracy')\n",
        "plt.xlabel('Epoch')\n",
        "plt.ylabel('Accuracy')\n",
        "plt.legend()\n",
        "\n",
        "plt.subplot(1, 2, 2)\n",
        "plt.plot(history.history['loss'], label='Training Loss')\n",
        "plt.plot(history.history['val_loss'], label='Validation Loss')\n",
        "plt.title('Model Loss')\n",
        "plt.xlabel('Epoch')\n",
        "plt.ylabel('Loss')\n",
        "plt.legend()\n",
        "\n",
        "plt.tight_layout()\n",
        "plt.show()\n"
      ],
      "metadata": {
        "colab": {
          "base_uri": "https://localhost:8080/",
          "height": 407
        },
        "id": "hHR95TqgERVp",
        "outputId": "307c3202-2698-44fc-a2d4-4ac84055658b"
      },
      "execution_count": 34,
      "outputs": [
        {
          "output_type": "display_data",
          "data": {
            "text/plain": [
              "<Figure size 1200x400 with 2 Axes>"
            ],
            "image/png": "[encoded data removed]"
          },
          "metadata": {}
        }
      ]
    },
    {
      "cell_type": "markdown",
      "source": [
        "### Justification for Binary Cross-Entropy Loss:\n",
        "\n",
        "- **Binary Cross-Entropy** is the ideal loss function for binary classification tasks because it evaluates the performance of models that output probabilities between 0 and 1 (as the sigmoid activation does). It penalizes incorrect predictions more heavily when the model is confident in the wrong class, helping to guide the model toward more accurate predictions."
      ],
      "metadata": {
        "id": "cQOkt3QxL6d4"
      }
    }
  ]
}